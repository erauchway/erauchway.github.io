{
  "cells": [
    {
      "cell_type": "raw",
      "metadata": {},
      "source": [
        "---\n",
        "title: Architecture after a Green New Deal, UCLA\n",
        "categories:\n",
        "    - New Deal\n",
        "    - Public works\n",
        "    - Green New Deal\n",
        "    - TVA\n",
        "draft: true\n",
        "---"
      ],
      "id": "794244b4"
    },
    {
      "cell_type": "markdown",
      "metadata": {},
      "source": [
        "```{html}\n",
        "<iframe height=\"1080\" width=\"1920\" src=\"https://erauchway.github.io/present/gnd_ucla.html\">\n",
        "</iframe>\n",
        "```"
      ],
      "id": "7a10b80a"
    }
  ],
  "metadata": {
    "kernelspec": {
      "display_name": "Python 3",
      "language": "python",
      "name": "python3"
    }
  },
  "nbformat": 4,
  "nbformat_minor": 5
}